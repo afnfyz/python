import pandas as pd

taxis=pd.read_csv

mixedlist=['fruits', 50,['hang','afnan',3]]
print(mixedlist[1])

mixedlist+=['connie']
print(mixedlist)

