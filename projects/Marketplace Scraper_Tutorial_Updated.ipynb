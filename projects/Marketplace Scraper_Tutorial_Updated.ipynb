{
 "cells": [
  {
   "cell_type": "code",
   "execution_count": null,
   "id": "ad7fd475",
   "metadata": {},
   "outputs": [],
   "source": [
    "# Import necessary libraries\n",
    "from selenium import webdriver\n",
    "from bs4 import BeautifulSoup as soup\n",
    "import re\n",
    "import pandas as pd\n",
    "import matplotlib.pyplot as plt\n",
    "import time\n"
   ]
  },
  {
   "cell_type": "code",
   "execution_count": null,
   "id": "d1c19a86",
   "metadata": {},
   "outputs": [],
   "source": [
    "# Set up Splinter\n",
    "options = webdriver.ChromeOptions()\n",
    "options.add_experimental_option(\"detach\", True)\n",
    "driver = webdriver.Chrome(options=options)\n",
    "\n",
    "# Set up base url\n",
    "base_url = \"https://www.facebook.com/marketplace/nyc/search?\"\n",
    "# Set up search parameters\n",
    "min_price = 1000\n",
    "max_price = 30000\n",
    "days_listed = 7\n",
    "min_mileage = 50000\n",
    "max_mileage = 200000\n",
    "min_year = 2000\n",
    "max_year = 2020\n",
    "transmission = \"automatic\"\n",
    "make = \"Honda\"\n",
    "model = \"Civic\"\n",
    "#Set up full url\n",
    "url = f\"{base_url}minPrice={min_price}&maxPrice={max_price}&daysSinceListed={days_listed}&maxMileage={max_mileage}&maxYear={max_year}&minMileage={min_mileage}&minYear={min_year}&transmissionType={transmission}&query={make}{model}&exact=false\""
   ]
  },
  {
   "cell_type": "code",
   "execution_count": null,
   "id": "c1b0bd20",
   "metadata": {},
   "outputs": [],
   "source": [
    "# Visit the website\n",
    "driver.get.visit(url)"
   ]
  },
  {
   "cell_type": "code",
   "execution_count": null,
   "id": "4d8ba307",
   "metadata": {},
   "outputs": [],
   "source": [
    "if driver.is_element_present_by_css('div[aria-label=\"Close\"]', wait_time=10):\n",
    "    # Click on the element once it's found\n",
    "    driver.find_by_css('div[aria-label=\"Close\"]').first.click()"
   ]
  },
  {
   "cell_type": "code",
   "execution_count": null,
   "id": "5b377323",
   "metadata": {},
   "outputs": [],
   "source": [
    "# Scroll down to load more results\n",
    "\n",
    "# Define the number of times to scroll the page\n",
    "scroll_count = 4\n",
    "\n",
    "# Define the delay (in seconds) between each scroll\n",
    "scroll_delay = 2\n",
    "\n",
    "# Loop to perform scrolling\n",
    "for _ in range(scroll_count):\n",
    "    # Execute JavaScript to scroll to the bottom of the page\n",
    "    driver.execute_script(\"window.scrollTo(0, document.body.scrollHeight);\")\n",
    "    \n",
    "    # Pause for a moment to allow the content to load\n",
    "    time.sleep(scroll_delay)"
   ]
  },
  {
   "cell_type": "code",
   "execution_count": null,
   "id": "078f0450",
   "metadata": {},
   "outputs": [],
   "source": [
    "# Parse the HTML\n",
    "html = driver.html\n",
    "\n",
    "# Create a BeautifulSoup object from the scraped HTML\n",
    "market_soup = soup(html, 'html.parser')\n",
    "# Check if HTML was scraped correctly\n",
    "market_soup"
   ]
  },
  {
   "cell_type": "code",
   "execution_count": null,
   "id": "1ae728d8",
   "metadata": {},
   "outputs": [],
   "source": [
    "# End the automated browsing session\n",
    "driver.quit()"
   ]
  },
  {
   "cell_type": "code",
   "execution_count": null,
   "id": "70f80267",
   "metadata": {},
   "outputs": [],
   "source": [
    "# Extract all the necessary info and insert into lists\n",
    "titles_div = market_soup.find_all('span', class_=\"x1lliihq x6ikm8r x10wlt62 x1n2onr6\")\n",
    "titles_list = [title.text.strip() for title in titles_div]\n",
    "prices_div = market_soup.find_all('span', class_=\"x193iq5w xeuugli x13faqbe x1vvkbs x1xmvt09 x1lliihq x1s928wv xhkezso x1gmr53x x1cpjm7i x1fgarty x1943h6x xudqn12 x676frb x1lkfr7t x1lbecb7 x1s688f xzsf02u\")\n",
    "prices_list = [price.text.strip() for price in prices_div]\n",
    "mileage_div = market_soup.find_all('span', class_=\"x193iq5w xeuugli x13faqbe x1vvkbs x1xmvt09 x1lliihq x1s928wv xhkezso x1gmr53x x1cpjm7i x1fgarty x1943h6x x4zkp8e x3x7a5m x1nxh6w3 x1sibtaa xo1l8bm xi81zsa\")\n",
    "mileage_list = [mileage.text.strip() for mileage in mileage_div]\n",
    "urls_div = market_soup.find_all('a', class_=\"x1i10hfl xjbqb8w x6umtig x1b1mbwd xaqea5y xav7gou x9f619 x1ypdohk xt0psk2 xe8uvvx xdj266r x11i5rnm xat24cr x1mh8g0r xexx8yu x4uap5 x18d9i69 xkhd6sd x16tdsg8 x1hl2dhg xggy1nq x1a2a7pz x1heor9g x1lku1pv\")\n",
    "urls_list = [url.get('href') for url in urls_div]"
   ]
  },
  {
   "cell_type": "code",
   "execution_count": null,
   "id": "2ba3fe48",
   "metadata": {},
   "outputs": [],
   "source": [
    "# Create a regular expression pattern to match city and state entries like \"City, State\"\n",
    "pattern = re.compile(r'(\\w+(?:-\\w+)?, [A-Z]{2})')\n",
    "\n",
    "# Initialize an empty list to store adjusted mileage entries\n",
    "mileage_list2 = []\n",
    "\n",
    "# Iterate through the original mileage entries\n",
    "for item in mileage_list:\n",
    "    # Append the current mileage entry to the adjusted list\n",
    "    mileage_list2.append(item)\n",
    "    \n",
    "    # Check if the current mileage entry matches the pattern and there are at least two entries in the adjusted list\n",
    "    if pattern.match(item) and len(mileage_list2) >= 2 and pattern.match(mileage_list2[-2]):\n",
    "        # If the conditions are met, insert \"0K km\" in between the two consecutive city and state entries\n",
    "        mileage_list2.insert(-1, '0K km')"
   ]
  },
  {
   "cell_type": "code",
   "execution_count": null,
   "id": "dbf4addb",
   "metadata": {},
   "outputs": [],
   "source": [
    "mileage_list2"
   ]
  },
  {
   "cell_type": "code",
   "execution_count": null,
   "id": "b8905540",
   "metadata": {},
   "outputs": [],
   "source": [
    "# Extracted mileage list (separate from location and extract numeric values only)\n",
    "# Define regular expressions to extract numeric mileage values in \"K km\" and \"K miles\" format\n",
    "mileage_pattern_km = r'(\\d+)K km'\n",
    "mileage_pattern_miles = r'(\\d+)K miles'\n",
    "\n",
    "# Initialize an empty list to store cleaned mileage values\n",
    "mileage_clean = []\n",
    "\n",
    "# Iterate through the adjusted mileage entries\n",
    "for item in mileage_list2:\n",
    "    # Try to find a match for the \"K km\" format\n",
    "    match_mileage_km = re.search(mileage_pattern_km, item)\n",
    "    \n",
    "    # Try to find a match for the \"K miles\" format\n",
    "    match_mileage_miles = re.search(mileage_pattern_miles, item)\n",
    "    \n",
    "    # Check if either of the formats is found\n",
    "    if match_mileage_km or match_mileage_miles:\n",
    "        # If \"K km\" format is found, convert it to meters and append to the cleaned list\n",
    "        if match_mileage_km:\n",
    "            mileage_clean.append(int(match_mileage_km.group(1)) * 1000)\n",
    "        # If \"K miles\" format is found, convert it to meters and append to the cleaned list\n",
    "        else:\n",
    "            mileage_clean.append(int(match_mileage_miles.group(1)) * 1600)"
   ]
  },
  {
   "cell_type": "code",
   "execution_count": null,
   "id": "8c0bc07b",
   "metadata": {},
   "outputs": [],
   "source": [
    "mileage_clean"
   ]
  },
  {
   "cell_type": "code",
   "execution_count": null,
   "id": "174874e4",
   "metadata": {},
   "outputs": [],
   "source": [
    "# Add all values to a list of dictionaries\n",
    "vehicles_list = []\n",
    "\n",
    "for i, item in enumerate(titles_list):\n",
    "    cars_dict = {}\n",
    "    \n",
    "    title_split = titles_list[i].split()\n",
    "    \n",
    "    cars_dict[\"Year\"] = int(title_split[0])\n",
    "    cars_dict[\"Make\"] = title_split[1]\n",
    "    cars_dict[\"Model\"] = title_split[2]\n",
    "    cars_dict[\"Price\"] = int(re.sub(r'[^\\d.]', '', prices_list[i]))\n",
    "    cars_dict[\"Mileage\"] = mileage_clean[i]\n",
    "    cars_dict[\"URL\"] = urls_list[i]\n",
    "    vehicles_list.append(cars_dict)\n",
    "    \n",
    "print(vehicles_list)"
   ]
  },
  {
   "cell_type": "code",
   "execution_count": null,
   "id": "2a090876",
   "metadata": {},
   "outputs": [],
   "source": [
    "vehicles_df = pd.DataFrame(vehicles_list)\n",
    "\n",
    "# Set the display option to ensure that all characters in a column are shown\n",
    "pd.set_option('display.max_colwidth', None)\n",
    "\n",
    "vehicles_df.tail()"
   ]
  },
  {
   "cell_type": "code",
   "execution_count": null,
   "id": "7fbefd2a",
   "metadata": {},
   "outputs": [],
   "source": [
    "# Add the prefix to the URLs\n",
    "vehicles_df['URL'] = 'https://www.facebook.com/' + vehicles_df['URL']"
   ]
  },
  {
   "cell_type": "code",
   "execution_count": null,
   "id": "756fc01b",
   "metadata": {},
   "outputs": [],
   "source": [
    "vehicles_df.sample(10)"
   ]
  },
  {
   "cell_type": "code",
   "execution_count": null,
   "id": "30d1f196",
   "metadata": {},
   "outputs": [],
   "source": [
    "# Filter the DataFrame to include rows where the 'Model' column matches the specified model, regardless of case.\n",
    "filtered_df = vehicles_df[vehicles_df['Model'].str.lower() == model.lower()]"
   ]
  },
  {
   "cell_type": "code",
   "execution_count": null,
   "id": "fdcd3b90",
   "metadata": {},
   "outputs": [],
   "source": [
    "filtered_df"
   ]
  },
  {
   "cell_type": "code",
   "execution_count": null,
   "id": "eedeb26c",
   "metadata": {},
   "outputs": [],
   "source": [
    "# Group the data by \"Year\" and calculate the mean price for each year\n",
    "yearly_prices = vehicles_df.groupby(\"Year\")[\"Price\"].mean()\n",
    "\n",
    "# Create a wider figure\n",
    "plt.figure(figsize=(12, 6))\n",
    "\n",
    "# Create the column chart\n",
    "plt.bar(yearly_prices.index, yearly_prices.values)\n",
    "\n",
    "# Add values on top of the bars with no digits after the period\n",
    "for x, y in zip(yearly_prices.index, yearly_prices.values):\n",
    "    y = int(y)  # Convert to an integer to remove digits after the period\n",
    "    plt.text(x, y, f'{y}', ha='center', va='bottom')\n",
    "\n",
    "# Set the labels and title\n",
    "plt.xlabel(\"Year\")\n",
    "plt.ylabel(\"Price\")\n",
    "plt.title(\"Average Price by Year\")\n",
    "\n",
    "# Use adaptive scale for the year axis\n",
    "plt.xticks(yearly_prices.index, rotation=45)\n",
    "\n",
    "# Show the chart\n",
    "plt.show()"
   ]
  },
  {
   "cell_type": "code",
   "execution_count": null,
   "id": "1f36c5ca",
   "metadata": {},
   "outputs": [],
   "source": [
    "# Filter out rows where mileage is zero\n",
    "filtered_df = filtered_df[filtered_df[\"Mileage\"] != 0]\n",
    "\n",
    "# Group the data by \"Year\" and calculate the mean mileage for each year\n",
    "yearly_miles = filtered_df.groupby(\"Year\")[\"Mileage\"].mean()\n",
    "\n",
    "# Create a wider figure\n",
    "plt.figure(figsize=(12, 6))\n",
    "\n",
    "# Create the column chart\n",
    "plt.bar(yearly_miles.index, yearly_miles.values)\n",
    "\n",
    "# Add values on top of the bars\n",
    "for x, y in zip(yearly_miles.index, yearly_miles.values):\n",
    "    y = int(y)  # Convert to an integer to remove digits after the period\n",
    "    plt.text(x, y, f'{y:.0f}', ha='center', va='bottom')\n",
    "\n",
    "# Set the labels and title\n",
    "plt.xlabel(\"Year\")\n",
    "plt.ylabel(\"Mileage\")\n",
    "plt.title(\"Average Mileage by Year\")\n",
    "\n",
    "# Use adaptive scale for the year axis\n",
    "plt.xticks(yearly_miles.index, rotation=45)\n",
    "\n",
    "# Show the chart\n",
    "plt.show()"
   ]
  },
  {
   "cell_type": "code",
   "execution_count": null,
   "id": "7e6b84d3",
   "metadata": {},
   "outputs": [],
   "source": [
    "# Group the data by \"Year\" and count the number of listings for each year\n",
    "listings_by_year = filtered_df.groupby(\"Year\").size()\n",
    "\n",
    "# Create a wider figure\n",
    "plt.figure(figsize=(12, 6))\n",
    "\n",
    "# Create a bar chart\n",
    "plt.bar(listings_by_year.index, listings_by_year.values)\n",
    "\n",
    "# Add values on top of the bars\n",
    "for x, y in zip(listings_by_year.index, listings_by_year.values):\n",
    "    plt.text(x, y, f'{y}', ha='center', va='bottom')\n",
    "\n",
    "# Set the labels and title\n",
    "plt.xlabel(\"Year\")\n",
    "plt.ylabel(\"Number of Listings\")\n",
    "plt.title(\"Number of Listings by Year\")\n",
    "\n",
    "# Use adaptive scale for the year axis\n",
    "plt.xticks(listings_by_year.index, rotation=45)\n",
    "\n",
    "# Show the chart\n",
    "plt.show()"
   ]
  },
  {
   "cell_type": "code",
   "execution_count": null,
   "id": "0c47edd0",
   "metadata": {},
   "outputs": [],
   "source": [
    "# Find the URL of the cheapest Honda Civic directly from the filtered DataFrame\n",
    "cheapest_civic_url = filtered_df[filtered_df[\"Price\"] == filtered_df[\"Price\"].min()][\"URL\"].values[0]\n",
    "\n",
    "# Print the URL\n",
    "print(f\"{cheapest_civic_url}\")"
   ]
  },
  {
   "cell_type": "code",
   "execution_count": null,
   "id": "8b7dd858",
   "metadata": {},
   "outputs": [],
   "source": [
    "# Export to CSV\n",
    "\n",
    "csv_file_path = r'C:\\Users\\Victor\\Documents\\GitHub\\facebook-marketplace-scraping\\V1\\cars.csv'\n",
    "\n",
    "filtered_df.to_csv(csv_file_path, index=False)"
   ]
  }
 ],
 "metadata": {
  "kernelspec": {
   "display_name": "Python 3 (ipykernel)",
   "language": "python",
   "name": "python3"
  },
  "language_info": {
   "codemirror_mode": {
    "name": "ipython",
    "version": 3
   },
   "file_extension": ".py",
   "mimetype": "text/x-python",
   "name": "python",
   "nbconvert_exporter": "python",
   "pygments_lexer": "ipython3",
   "version": "3.12.3"
  }
 },
 "nbformat": 4,
 "nbformat_minor": 5
}
