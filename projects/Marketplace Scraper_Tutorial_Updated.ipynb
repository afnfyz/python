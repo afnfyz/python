{
 "cells": [
  {
   "cell_type": "code",
   "execution_count": 3,
   "id": "ad7fd475",
   "metadata": {},
   "outputs": [],
   "source": [
    "# Import necessary libraries\n",
    "from splinter import Browser\n",
    "from bs4 import BeautifulSoup as soup\n",
    "import re\n",
    "import pandas as pd\n",
    "import matplotlib.pyplot as plt\n",
    "import time"
   ]
  },
  {
   "cell_type": "code",
   "execution_count": 4,
   "id": "d1c19a86",
   "metadata": {},
   "outputs": [
    {
     "ename": "WebDriverException",
     "evalue": "Message: Service /home/afnfyz/.cache/selenium/chromedriver/linux64/124.0.6367.91/chromedriver unexpectedly exited. Status code was: 127\n",
     "output_type": "error",
     "traceback": [
      "\u001b[0;31m---------------------------------------------------------------------------\u001b[0m",
      "\u001b[0;31mWebDriverException\u001b[0m                        Traceback (most recent call last)",
      "Cell \u001b[0;32mIn[4], line 2\u001b[0m\n\u001b[1;32m      1\u001b[0m \u001b[38;5;66;03m# Set up Splinter\u001b[39;00m\n\u001b[0;32m----> 2\u001b[0m browser \u001b[38;5;241m=\u001b[39m \u001b[43mBrowser\u001b[49m\u001b[43m(\u001b[49m\u001b[38;5;124;43m'\u001b[39;49m\u001b[38;5;124;43mchrome\u001b[39;49m\u001b[38;5;124;43m'\u001b[39;49m\u001b[43m)\u001b[49m\n\u001b[1;32m      3\u001b[0m \u001b[38;5;66;03m# Set up base url\u001b[39;00m\n\u001b[1;32m      4\u001b[0m base_url \u001b[38;5;241m=\u001b[39m \u001b[38;5;124m\"\u001b[39m\u001b[38;5;124mhttps://www.facebook.com/marketplace/nyc/search?\u001b[39m\u001b[38;5;124m\"\u001b[39m\n",
      "File \u001b[0;32m~/.local/lib/python3.10/site-packages/splinter/browser.py:130\u001b[0m, in \u001b[0;36mBrowser\u001b[0;34m(driver_name, retry_count, config, *args, **kwargs)\u001b[0m\n\u001b[1;32m    127\u001b[0m \u001b[38;5;28;01mif\u001b[39;00m driver \u001b[38;5;129;01mis\u001b[39;00m \u001b[38;5;28;01mNone\u001b[39;00m:\n\u001b[1;32m    128\u001b[0m     \u001b[38;5;28;01mraise\u001b[39;00m DriverNotFoundError(\u001b[38;5;124mf\u001b[39m\u001b[38;5;124m\"\u001b[39m\u001b[38;5;124mDriver for \u001b[39m\u001b[38;5;132;01m{\u001b[39;00mdriver_name\u001b[38;5;132;01m}\u001b[39;00m\u001b[38;5;124m was not found.\u001b[39m\u001b[38;5;124m\"\u001b[39m)\n\u001b[0;32m--> 130\u001b[0m \u001b[38;5;28;01mreturn\u001b[39;00m \u001b[43mget_driver\u001b[49m\u001b[43m(\u001b[49m\u001b[43mdriver\u001b[49m\u001b[43m,\u001b[49m\u001b[43m \u001b[49m\u001b[43mretry_count\u001b[49m\u001b[38;5;241;43m=\u001b[39;49m\u001b[43mretry_count\u001b[49m\u001b[43m,\u001b[49m\u001b[43m \u001b[49m\u001b[43mconfig\u001b[49m\u001b[38;5;241;43m=\u001b[39;49m\u001b[43mconfig\u001b[49m\u001b[43m,\u001b[49m\u001b[43m \u001b[49m\u001b[38;5;241;43m*\u001b[39;49m\u001b[43margs\u001b[49m\u001b[43m,\u001b[49m\u001b[43m \u001b[49m\u001b[38;5;241;43m*\u001b[39;49m\u001b[38;5;241;43m*\u001b[39;49m\u001b[43mkwargs\u001b[49m\u001b[43m)\u001b[49m\n",
      "File \u001b[0;32m~/.local/lib/python3.10/site-packages/splinter/browser.py:96\u001b[0m, in \u001b[0;36mget_driver\u001b[0;34m(driver, retry_count, config, *args, **kwargs)\u001b[0m\n\u001b[1;32m     93\u001b[0m     \u001b[38;5;28;01mexcept\u001b[39;00m driver_exceptions \u001b[38;5;28;01mas\u001b[39;00m e:\n\u001b[1;32m     94\u001b[0m         err \u001b[38;5;241m=\u001b[39m e\n\u001b[0;32m---> 96\u001b[0m \u001b[38;5;28;01mraise\u001b[39;00m err\n",
      "File \u001b[0;32m~/.local/lib/python3.10/site-packages/splinter/browser.py:92\u001b[0m, in \u001b[0;36mget_driver\u001b[0;34m(driver, retry_count, config, *args, **kwargs)\u001b[0m\n\u001b[1;32m     90\u001b[0m \u001b[38;5;28;01mfor\u001b[39;00m _ \u001b[38;5;129;01min\u001b[39;00m \u001b[38;5;28mrange\u001b[39m(retry_count):\n\u001b[1;32m     91\u001b[0m     \u001b[38;5;28;01mtry\u001b[39;00m:\n\u001b[0;32m---> 92\u001b[0m         \u001b[38;5;28;01mreturn\u001b[39;00m \u001b[43mdriver\u001b[49m\u001b[43m(\u001b[49m\u001b[43mconfig\u001b[49m\u001b[38;5;241;43m=\u001b[39;49m\u001b[43mconfig\u001b[49m\u001b[43m,\u001b[49m\u001b[43m \u001b[49m\u001b[38;5;241;43m*\u001b[39;49m\u001b[43margs\u001b[49m\u001b[43m,\u001b[49m\u001b[43m \u001b[49m\u001b[38;5;241;43m*\u001b[39;49m\u001b[38;5;241;43m*\u001b[39;49m\u001b[43mkwargs\u001b[49m\u001b[43m)\u001b[49m\n\u001b[1;32m     93\u001b[0m     \u001b[38;5;28;01mexcept\u001b[39;00m driver_exceptions \u001b[38;5;28;01mas\u001b[39;00m e:\n\u001b[1;32m     94\u001b[0m         err \u001b[38;5;241m=\u001b[39m e\n",
      "File \u001b[0;32m~/.local/lib/python3.10/site-packages/splinter/driver/webdriver/chrome.py:65\u001b[0m, in \u001b[0;36mWebDriver.__init__\u001b[0;34m(self, options, user_agent, wait_time, fullscreen, incognito, headless, service, config, **kwargs)\u001b[0m\n\u001b[1;32m     56\u001b[0m options \u001b[38;5;241m=\u001b[39m options \u001b[38;5;129;01mor\u001b[39;00m Options()\n\u001b[1;32m     58\u001b[0m \u001b[38;5;28mself\u001b[39m\u001b[38;5;241m.\u001b[39mconfig \u001b[38;5;241m=\u001b[39m config \u001b[38;5;129;01mor\u001b[39;00m Config(\n\u001b[1;32m     59\u001b[0m     fullscreen\u001b[38;5;241m=\u001b[39mfullscreen,\n\u001b[1;32m     60\u001b[0m     headless\u001b[38;5;241m=\u001b[39mheadless,\n\u001b[1;32m     61\u001b[0m     incognito\u001b[38;5;241m=\u001b[39mincognito,\n\u001b[1;32m     62\u001b[0m     user_agent\u001b[38;5;241m=\u001b[39muser_agent,\n\u001b[1;32m     63\u001b[0m )\n\u001b[0;32m---> 65\u001b[0m driver \u001b[38;5;241m=\u001b[39m \u001b[43m_setup_chrome\u001b[49m\u001b[43m(\u001b[49m\n\u001b[1;32m     66\u001b[0m \u001b[43m    \u001b[49m\u001b[43mChrome\u001b[49m\u001b[43m,\u001b[49m\n\u001b[1;32m     67\u001b[0m \u001b[43m    \u001b[49m\u001b[43mconfig\u001b[49m\u001b[38;5;241;43m=\u001b[39;49m\u001b[38;5;28;43mself\u001b[39;49m\u001b[38;5;241;43m.\u001b[39;49m\u001b[43mconfig\u001b[49m\u001b[43m,\u001b[49m\n\u001b[1;32m     68\u001b[0m \u001b[43m    \u001b[49m\u001b[43moptions\u001b[49m\u001b[38;5;241;43m=\u001b[39;49m\u001b[43moptions\u001b[49m\u001b[43m,\u001b[49m\n\u001b[1;32m     69\u001b[0m \u001b[43m    \u001b[49m\u001b[43mservice\u001b[49m\u001b[38;5;241;43m=\u001b[39;49m\u001b[43mservice\u001b[49m\u001b[43m,\u001b[49m\n\u001b[1;32m     70\u001b[0m \u001b[43m    \u001b[49m\u001b[38;5;241;43m*\u001b[39;49m\u001b[38;5;241;43m*\u001b[39;49m\u001b[43mkwargs\u001b[49m\u001b[43m,\u001b[49m\n\u001b[1;32m     71\u001b[0m \u001b[43m\u001b[49m\u001b[43m)\u001b[49m\n\u001b[1;32m     73\u001b[0m \u001b[38;5;28msuper\u001b[39m()\u001b[38;5;241m.\u001b[39m\u001b[38;5;21m__init__\u001b[39m(driver, wait_time)\n",
      "File \u001b[0;32m~/.local/lib/python3.10/site-packages/splinter/driver/webdriver/setup.py:36\u001b[0m, in \u001b[0;36m_setup_chrome\u001b[0;34m(driver_class, config, options, service, **kwargs)\u001b[0m\n\u001b[1;32m     34\u001b[0m     rv \u001b[38;5;241m=\u001b[39m driver_class(options\u001b[38;5;241m=\u001b[39moptions, \u001b[38;5;241m*\u001b[39m\u001b[38;5;241m*\u001b[39mkwargs)\n\u001b[1;32m     35\u001b[0m \u001b[38;5;28;01melse\u001b[39;00m:\n\u001b[0;32m---> 36\u001b[0m     rv \u001b[38;5;241m=\u001b[39m \u001b[43mdriver_class\u001b[49m\u001b[43m(\u001b[49m\u001b[43moptions\u001b[49m\u001b[38;5;241;43m=\u001b[39;49m\u001b[43moptions\u001b[49m\u001b[43m,\u001b[49m\u001b[43m \u001b[49m\u001b[43mservice\u001b[49m\u001b[38;5;241;43m=\u001b[39;49m\u001b[43mservice\u001b[49m\u001b[43m,\u001b[49m\u001b[43m \u001b[49m\u001b[38;5;241;43m*\u001b[39;49m\u001b[38;5;241;43m*\u001b[39;49m\u001b[43mkwargs\u001b[49m\u001b[43m)\u001b[49m\n\u001b[1;32m     38\u001b[0m \u001b[38;5;28;01mreturn\u001b[39;00m rv\n",
      "File \u001b[0;32m~/.local/lib/python3.10/site-packages/selenium/webdriver/chrome/webdriver.py:45\u001b[0m, in \u001b[0;36mWebDriver.__init__\u001b[0;34m(self, options, service, keep_alive)\u001b[0m\n\u001b[1;32m     42\u001b[0m service \u001b[38;5;241m=\u001b[39m service \u001b[38;5;28;01mif\u001b[39;00m service \u001b[38;5;28;01melse\u001b[39;00m Service()\n\u001b[1;32m     43\u001b[0m options \u001b[38;5;241m=\u001b[39m options \u001b[38;5;28;01mif\u001b[39;00m options \u001b[38;5;28;01melse\u001b[39;00m Options()\n\u001b[0;32m---> 45\u001b[0m \u001b[38;5;28;43msuper\u001b[39;49m\u001b[43m(\u001b[49m\u001b[43m)\u001b[49m\u001b[38;5;241;43m.\u001b[39;49m\u001b[38;5;21;43m__init__\u001b[39;49m\u001b[43m(\u001b[49m\n\u001b[1;32m     46\u001b[0m \u001b[43m    \u001b[49m\u001b[43mbrowser_name\u001b[49m\u001b[38;5;241;43m=\u001b[39;49m\u001b[43mDesiredCapabilities\u001b[49m\u001b[38;5;241;43m.\u001b[39;49m\u001b[43mCHROME\u001b[49m\u001b[43m[\u001b[49m\u001b[38;5;124;43m\"\u001b[39;49m\u001b[38;5;124;43mbrowserName\u001b[39;49m\u001b[38;5;124;43m\"\u001b[39;49m\u001b[43m]\u001b[49m\u001b[43m,\u001b[49m\n\u001b[1;32m     47\u001b[0m \u001b[43m    \u001b[49m\u001b[43mvendor_prefix\u001b[49m\u001b[38;5;241;43m=\u001b[39;49m\u001b[38;5;124;43m\"\u001b[39;49m\u001b[38;5;124;43mgoog\u001b[39;49m\u001b[38;5;124;43m\"\u001b[39;49m\u001b[43m,\u001b[49m\n\u001b[1;32m     48\u001b[0m \u001b[43m    \u001b[49m\u001b[43moptions\u001b[49m\u001b[38;5;241;43m=\u001b[39;49m\u001b[43moptions\u001b[49m\u001b[43m,\u001b[49m\n\u001b[1;32m     49\u001b[0m \u001b[43m    \u001b[49m\u001b[43mservice\u001b[49m\u001b[38;5;241;43m=\u001b[39;49m\u001b[43mservice\u001b[49m\u001b[43m,\u001b[49m\n\u001b[1;32m     50\u001b[0m \u001b[43m    \u001b[49m\u001b[43mkeep_alive\u001b[49m\u001b[38;5;241;43m=\u001b[39;49m\u001b[43mkeep_alive\u001b[49m\u001b[43m,\u001b[49m\n\u001b[1;32m     51\u001b[0m \u001b[43m\u001b[49m\u001b[43m)\u001b[49m\n",
      "File \u001b[0;32m~/.local/lib/python3.10/site-packages/selenium/webdriver/chromium/webdriver.py:55\u001b[0m, in \u001b[0;36mChromiumDriver.__init__\u001b[0;34m(self, browser_name, vendor_prefix, options, service, keep_alive)\u001b[0m\n\u001b[1;32m     52\u001b[0m     options\u001b[38;5;241m.\u001b[39mbrowser_version \u001b[38;5;241m=\u001b[39m \u001b[38;5;28;01mNone\u001b[39;00m\n\u001b[1;32m     54\u001b[0m \u001b[38;5;28mself\u001b[39m\u001b[38;5;241m.\u001b[39mservice\u001b[38;5;241m.\u001b[39mpath \u001b[38;5;241m=\u001b[39m finder\u001b[38;5;241m.\u001b[39mget_driver_path()\n\u001b[0;32m---> 55\u001b[0m \u001b[38;5;28;43mself\u001b[39;49m\u001b[38;5;241;43m.\u001b[39;49m\u001b[43mservice\u001b[49m\u001b[38;5;241;43m.\u001b[39;49m\u001b[43mstart\u001b[49m\u001b[43m(\u001b[49m\u001b[43m)\u001b[49m\n\u001b[1;32m     57\u001b[0m executor \u001b[38;5;241m=\u001b[39m ChromiumRemoteConnection(\n\u001b[1;32m     58\u001b[0m     remote_server_addr\u001b[38;5;241m=\u001b[39m\u001b[38;5;28mself\u001b[39m\u001b[38;5;241m.\u001b[39mservice\u001b[38;5;241m.\u001b[39mservice_url,\n\u001b[1;32m     59\u001b[0m     browser_name\u001b[38;5;241m=\u001b[39mbrowser_name,\n\u001b[0;32m   (...)\u001b[0m\n\u001b[1;32m     62\u001b[0m     ignore_proxy\u001b[38;5;241m=\u001b[39moptions\u001b[38;5;241m.\u001b[39m_ignore_local_proxy,\n\u001b[1;32m     63\u001b[0m )\n\u001b[1;32m     65\u001b[0m \u001b[38;5;28;01mtry\u001b[39;00m:\n",
      "File \u001b[0;32m~/.local/lib/python3.10/site-packages/selenium/webdriver/common/service.py:102\u001b[0m, in \u001b[0;36mService.start\u001b[0;34m(self)\u001b[0m\n\u001b[1;32m    100\u001b[0m count \u001b[38;5;241m=\u001b[39m \u001b[38;5;241m0\u001b[39m\n\u001b[1;32m    101\u001b[0m \u001b[38;5;28;01mwhile\u001b[39;00m \u001b[38;5;28;01mTrue\u001b[39;00m:\n\u001b[0;32m--> 102\u001b[0m     \u001b[38;5;28;43mself\u001b[39;49m\u001b[38;5;241;43m.\u001b[39;49m\u001b[43massert_process_still_running\u001b[49m\u001b[43m(\u001b[49m\u001b[43m)\u001b[49m\n\u001b[1;32m    103\u001b[0m     \u001b[38;5;28;01mif\u001b[39;00m \u001b[38;5;28mself\u001b[39m\u001b[38;5;241m.\u001b[39mis_connectable():\n\u001b[1;32m    104\u001b[0m         \u001b[38;5;28;01mbreak\u001b[39;00m\n",
      "File \u001b[0;32m~/.local/lib/python3.10/site-packages/selenium/webdriver/common/service.py:115\u001b[0m, in \u001b[0;36mService.assert_process_still_running\u001b[0;34m(self)\u001b[0m\n\u001b[1;32m    113\u001b[0m return_code \u001b[38;5;241m=\u001b[39m \u001b[38;5;28mself\u001b[39m\u001b[38;5;241m.\u001b[39mprocess\u001b[38;5;241m.\u001b[39mpoll()\n\u001b[1;32m    114\u001b[0m \u001b[38;5;28;01mif\u001b[39;00m return_code:\n\u001b[0;32m--> 115\u001b[0m     \u001b[38;5;28;01mraise\u001b[39;00m WebDriverException(\u001b[38;5;124mf\u001b[39m\u001b[38;5;124m\"\u001b[39m\u001b[38;5;124mService \u001b[39m\u001b[38;5;132;01m{\u001b[39;00m\u001b[38;5;28mself\u001b[39m\u001b[38;5;241m.\u001b[39m_path\u001b[38;5;132;01m}\u001b[39;00m\u001b[38;5;124m unexpectedly exited. Status code was: \u001b[39m\u001b[38;5;132;01m{\u001b[39;00mreturn_code\u001b[38;5;132;01m}\u001b[39;00m\u001b[38;5;124m\"\u001b[39m)\n",
      "\u001b[0;31mWebDriverException\u001b[0m: Message: Service /home/afnfyz/.cache/selenium/chromedriver/linux64/124.0.6367.91/chromedriver unexpectedly exited. Status code was: 127\n"
     ]
    }
   ],
   "source": [
    "# Set up Splinter\n",
    "browser = Browser('chrome')\n",
    "# Set up base url\n",
    "base_url = \"https://www.facebook.com/marketplace/nyc/search?\"\n",
    "# Set up search parameters\n",
    "min_price = 1000\n",
    "max_price = 30000\n",
    "days_listed = 7\n",
    "min_mileage = 50000\n",
    "max_mileage = 200000\n",
    "min_year = 2000\n",
    "max_year = 2020\n",
    "transmission = \"automatic\"\n",
    "make = \"Honda\"\n",
    "model = \"Civic\"\n",
    "#Set up full url\n",
    "url = f\"{base_url}minPrice={min_price}&maxPrice={max_price}&daysSinceListed={days_listed}&maxMileage={max_mileage}&maxYear={max_year}&minMileage={min_mileage}&minYear={min_year}&transmissionType={transmission}&query={make}{model}&exact=false\""
   ]
  },
  {
   "cell_type": "code",
   "execution_count": null,
   "id": "c1b0bd20",
   "metadata": {},
   "outputs": [],
   "source": [
    "# Visit the website\n",
    "browser.visit(url)"
   ]
  },
  {
   "cell_type": "code",
   "execution_count": null,
   "id": "4d8ba307",
   "metadata": {},
   "outputs": [],
   "source": [
    "if browser.is_element_present_by_css('div[aria-label=\"Close\"]', wait_time=10):\n",
    "    # Click on the element once it's found\n",
    "    browser.find_by_css('div[aria-label=\"Close\"]').first.click()"
   ]
  },
  {
   "cell_type": "code",
   "execution_count": null,
   "id": "5b377323",
   "metadata": {},
   "outputs": [],
   "source": [
    "# Scroll down to load more results\n",
    "\n",
    "# Define the number of times to scroll the page\n",
    "scroll_count = 4\n",
    "\n",
    "# Define the delay (in seconds) between each scroll\n",
    "scroll_delay = 2\n",
    "\n",
    "# Loop to perform scrolling\n",
    "for _ in range(scroll_count):\n",
    "    # Execute JavaScript to scroll to the bottom of the page\n",
    "    browser.execute_script(\"window.scrollTo(0, document.body.scrollHeight);\")\n",
    "    \n",
    "    # Pause for a moment to allow the content to load\n",
    "    time.sleep(scroll_delay)"
   ]
  },
  {
   "cell_type": "code",
   "execution_count": null,
   "id": "078f0450",
   "metadata": {},
   "outputs": [],
   "source": [
    "# Parse the HTML\n",
    "html = browser.html\n",
    "\n",
    "# Create a BeautifulSoup object from the scraped HTML\n",
    "market_soup = soup(html, 'html.parser')\n",
    "# Check if HTML was scraped correctly\n",
    "market_soup"
   ]
  },
  {
   "cell_type": "code",
   "execution_count": null,
   "id": "1ae728d8",
   "metadata": {},
   "outputs": [],
   "source": [
    "# End the automated browsing session\n",
    "browser.quit()"
   ]
  },
  {
   "cell_type": "code",
   "execution_count": null,
   "id": "70f80267",
   "metadata": {},
   "outputs": [],
   "source": [
    "# Extract all the necessary info and insert into lists\n",
    "titles_div = market_soup.find_all('span', class_=\"x1lliihq x6ikm8r x10wlt62 x1n2onr6\")\n",
    "titles_list = [title.text.strip() for title in titles_div]\n",
    "prices_div = market_soup.find_all('span', class_=\"x193iq5w xeuugli x13faqbe x1vvkbs x1xmvt09 x1lliihq x1s928wv xhkezso x1gmr53x x1cpjm7i x1fgarty x1943h6x xudqn12 x676frb x1lkfr7t x1lbecb7 x1s688f xzsf02u\")\n",
    "prices_list = [price.text.strip() for price in prices_div]\n",
    "mileage_div = market_soup.find_all('span', class_=\"x193iq5w xeuugli x13faqbe x1vvkbs x1xmvt09 x1lliihq x1s928wv xhkezso x1gmr53x x1cpjm7i x1fgarty x1943h6x x4zkp8e x3x7a5m x1nxh6w3 x1sibtaa xo1l8bm xi81zsa\")\n",
    "mileage_list = [mileage.text.strip() for mileage in mileage_div]\n",
    "urls_div = market_soup.find_all('a', class_=\"x1i10hfl xjbqb8w x6umtig x1b1mbwd xaqea5y xav7gou x9f619 x1ypdohk xt0psk2 xe8uvvx xdj266r x11i5rnm xat24cr x1mh8g0r xexx8yu x4uap5 x18d9i69 xkhd6sd x16tdsg8 x1hl2dhg xggy1nq x1a2a7pz x1heor9g x1lku1pv\")\n",
    "urls_list = [url.get('href') for url in urls_div]"
   ]
  },
  {
   "cell_type": "code",
   "execution_count": null,
   "id": "2ba3fe48",
   "metadata": {},
   "outputs": [],
   "source": [
    "# Create a regular expression pattern to match city and state entries like \"City, State\"\n",
    "pattern = re.compile(r'(\\w+(?:-\\w+)?, [A-Z]{2})')\n",
    "\n",
    "# Initialize an empty list to store adjusted mileage entries\n",
    "mileage_list2 = []\n",
    "\n",
    "# Iterate through the original mileage entries\n",
    "for item in mileage_list:\n",
    "    # Append the current mileage entry to the adjusted list\n",
    "    mileage_list2.append(item)\n",
    "    \n",
    "    # Check if the current mileage entry matches the pattern and there are at least two entries in the adjusted list\n",
    "    if pattern.match(item) and len(mileage_list2) >= 2 and pattern.match(mileage_list2[-2]):\n",
    "        # If the conditions are met, insert \"0K km\" in between the two consecutive city and state entries\n",
    "        mileage_list2.insert(-1, '0K km')"
   ]
  },
  {
   "cell_type": "code",
   "execution_count": null,
   "id": "dbf4addb",
   "metadata": {},
   "outputs": [],
   "source": [
    "mileage_list2"
   ]
  },
  {
   "cell_type": "code",
   "execution_count": null,
   "id": "b8905540",
   "metadata": {},
   "outputs": [],
   "source": [
    "# Extracted mileage list (separate from location and extract numeric values only)\n",
    "# Define regular expressions to extract numeric mileage values in \"K km\" and \"K miles\" format\n",
    "mileage_pattern_km = r'(\\d+)K km'\n",
    "mileage_pattern_miles = r'(\\d+)K miles'\n",
    "\n",
    "# Initialize an empty list to store cleaned mileage values\n",
    "mileage_clean = []\n",
    "\n",
    "# Iterate through the adjusted mileage entries\n",
    "for item in mileage_list2:\n",
    "    # Try to find a match for the \"K km\" format\n",
    "    match_mileage_km = re.search(mileage_pattern_km, item)\n",
    "    \n",
    "    # Try to find a match for the \"K miles\" format\n",
    "    match_mileage_miles = re.search(mileage_pattern_miles, item)\n",
    "    \n",
    "    # Check if either of the formats is found\n",
    "    if match_mileage_km or match_mileage_miles:\n",
    "        # If \"K km\" format is found, convert it to meters and append to the cleaned list\n",
    "        if match_mileage_km:\n",
    "            mileage_clean.append(int(match_mileage_km.group(1)) * 1000)\n",
    "        # If \"K miles\" format is found, convert it to meters and append to the cleaned list\n",
    "        else:\n",
    "            mileage_clean.append(int(match_mileage_miles.group(1)) * 1600)"
   ]
  },
  {
   "cell_type": "code",
   "execution_count": null,
   "id": "8c0bc07b",
   "metadata": {},
   "outputs": [],
   "source": [
    "mileage_clean"
   ]
  },
  {
   "cell_type": "code",
   "execution_count": null,
   "id": "174874e4",
   "metadata": {},
   "outputs": [],
   "source": [
    "# Add all values to a list of dictionaries\n",
    "vehicles_list = []\n",
    "\n",
    "for i, item in enumerate(titles_list):\n",
    "    cars_dict = {}\n",
    "    \n",
    "    title_split = titles_list[i].split()\n",
    "    \n",
    "    cars_dict[\"Year\"] = int(title_split[0])\n",
    "    cars_dict[\"Make\"] = title_split[1]\n",
    "    cars_dict[\"Model\"] = title_split[2]\n",
    "    cars_dict[\"Price\"] = int(re.sub(r'[^\\d.]', '', prices_list[i]))\n",
    "    cars_dict[\"Mileage\"] = mileage_clean[i]\n",
    "    cars_dict[\"URL\"] = urls_list[i]\n",
    "    vehicles_list.append(cars_dict)\n",
    "    \n",
    "print(vehicles_list)"
   ]
  },
  {
   "cell_type": "code",
   "execution_count": null,
   "id": "2a090876",
   "metadata": {},
   "outputs": [],
   "source": [
    "vehicles_df = pd.DataFrame(vehicles_list)\n",
    "\n",
    "# Set the display option to ensure that all characters in a column are shown\n",
    "pd.set_option('display.max_colwidth', None)\n",
    "\n",
    "vehicles_df.tail()"
   ]
  },
  {
   "cell_type": "code",
   "execution_count": null,
   "id": "7fbefd2a",
   "metadata": {},
   "outputs": [],
   "source": [
    "# Add the prefix to the URLs\n",
    "vehicles_df['URL'] = 'https://www.facebook.com/' + vehicles_df['URL']"
   ]
  },
  {
   "cell_type": "code",
   "execution_count": null,
   "id": "756fc01b",
   "metadata": {},
   "outputs": [],
   "source": [
    "vehicles_df.sample(10)"
   ]
  },
  {
   "cell_type": "code",
   "execution_count": null,
   "id": "30d1f196",
   "metadata": {},
   "outputs": [],
   "source": [
    "# Filter the DataFrame to include rows where the 'Model' column matches the specified model, regardless of case.\n",
    "filtered_df = vehicles_df[vehicles_df['Model'].str.lower() == model.lower()]"
   ]
  },
  {
   "cell_type": "code",
   "execution_count": null,
   "id": "fdcd3b90",
   "metadata": {},
   "outputs": [],
   "source": [
    "filtered_df"
   ]
  },
  {
   "cell_type": "code",
   "execution_count": null,
   "id": "eedeb26c",
   "metadata": {},
   "outputs": [],
   "source": [
    "# Group the data by \"Year\" and calculate the mean price for each year\n",
    "yearly_prices = vehicles_df.groupby(\"Year\")[\"Price\"].mean()\n",
    "\n",
    "# Create a wider figure\n",
    "plt.figure(figsize=(12, 6))\n",
    "\n",
    "# Create the column chart\n",
    "plt.bar(yearly_prices.index, yearly_prices.values)\n",
    "\n",
    "# Add values on top of the bars with no digits after the period\n",
    "for x, y in zip(yearly_prices.index, yearly_prices.values):\n",
    "    y = int(y)  # Convert to an integer to remove digits after the period\n",
    "    plt.text(x, y, f'{y}', ha='center', va='bottom')\n",
    "\n",
    "# Set the labels and title\n",
    "plt.xlabel(\"Year\")\n",
    "plt.ylabel(\"Price\")\n",
    "plt.title(\"Average Price by Year\")\n",
    "\n",
    "# Use adaptive scale for the year axis\n",
    "plt.xticks(yearly_prices.index, rotation=45)\n",
    "\n",
    "# Show the chart\n",
    "plt.show()"
   ]
  },
  {
   "cell_type": "code",
   "execution_count": null,
   "id": "1f36c5ca",
   "metadata": {},
   "outputs": [],
   "source": [
    "# Filter out rows where mileage is zero\n",
    "filtered_df = filtered_df[filtered_df[\"Mileage\"] != 0]\n",
    "\n",
    "# Group the data by \"Year\" and calculate the mean mileage for each year\n",
    "yearly_miles = filtered_df.groupby(\"Year\")[\"Mileage\"].mean()\n",
    "\n",
    "# Create a wider figure\n",
    "plt.figure(figsize=(12, 6))\n",
    "\n",
    "# Create the column chart\n",
    "plt.bar(yearly_miles.index, yearly_miles.values)\n",
    "\n",
    "# Add values on top of the bars\n",
    "for x, y in zip(yearly_miles.index, yearly_miles.values):\n",
    "    y = int(y)  # Convert to an integer to remove digits after the period\n",
    "    plt.text(x, y, f'{y:.0f}', ha='center', va='bottom')\n",
    "\n",
    "# Set the labels and title\n",
    "plt.xlabel(\"Year\")\n",
    "plt.ylabel(\"Mileage\")\n",
    "plt.title(\"Average Mileage by Year\")\n",
    "\n",
    "# Use adaptive scale for the year axis\n",
    "plt.xticks(yearly_miles.index, rotation=45)\n",
    "\n",
    "# Show the chart\n",
    "plt.show()"
   ]
  },
  {
   "cell_type": "code",
   "execution_count": null,
   "id": "7e6b84d3",
   "metadata": {},
   "outputs": [],
   "source": [
    "# Group the data by \"Year\" and count the number of listings for each year\n",
    "listings_by_year = filtered_df.groupby(\"Year\").size()\n",
    "\n",
    "# Create a wider figure\n",
    "plt.figure(figsize=(12, 6))\n",
    "\n",
    "# Create a bar chart\n",
    "plt.bar(listings_by_year.index, listings_by_year.values)\n",
    "\n",
    "# Add values on top of the bars\n",
    "for x, y in zip(listings_by_year.index, listings_by_year.values):\n",
    "    plt.text(x, y, f'{y}', ha='center', va='bottom')\n",
    "\n",
    "# Set the labels and title\n",
    "plt.xlabel(\"Year\")\n",
    "plt.ylabel(\"Number of Listings\")\n",
    "plt.title(\"Number of Listings by Year\")\n",
    "\n",
    "# Use adaptive scale for the year axis\n",
    "plt.xticks(listings_by_year.index, rotation=45)\n",
    "\n",
    "# Show the chart\n",
    "plt.show()"
   ]
  },
  {
   "cell_type": "code",
   "execution_count": null,
   "id": "0c47edd0",
   "metadata": {},
   "outputs": [],
   "source": [
    "# Find the URL of the cheapest Honda Civic directly from the filtered DataFrame\n",
    "cheapest_civic_url = filtered_df[filtered_df[\"Price\"] == filtered_df[\"Price\"].min()][\"URL\"].values[0]\n",
    "\n",
    "# Print the URL\n",
    "print(f\"{cheapest_civic_url}\")"
   ]
  },
  {
   "cell_type": "code",
   "execution_count": null,
   "id": "8b7dd858",
   "metadata": {},
   "outputs": [],
   "source": [
    "# Export to CSV\n",
    "\n",
    "csv_file_path = r'C:\\Users\\Victor\\Documents\\GitHub\\facebook-marketplace-scraping\\V1\\cars.csv'\n",
    "\n",
    "filtered_df.to_csv(csv_file_path, index=False)"
   ]
  }
 ],
 "metadata": {
  "kernelspec": {
   "display_name": "Python 3 (ipykernel)",
   "language": "python",
   "name": "python3"
  },
  "language_info": {
   "codemirror_mode": {
    "name": "ipython",
    "version": 3
   },
   "file_extension": ".py",
   "mimetype": "text/x-python",
   "name": "python",
   "nbconvert_exporter": "python",
   "pygments_lexer": "ipython3",
   "version": "3.10.12"
  }
 },
 "nbformat": 4,
 "nbformat_minor": 5
}
